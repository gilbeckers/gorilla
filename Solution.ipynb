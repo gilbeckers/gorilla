{
 "cells": [
  {
   "cell_type": "markdown",
   "id": "081f7e18-85b8-46a9-a361-5e4b49da59e8",
   "metadata": {},
   "source": [
    "# [0] Intro"
   ]
  },
  {
   "cell_type": "code",
   "execution_count": 1,
   "id": "e63f6d02-bb13-4cfc-a0ff-f34afd951e10",
   "metadata": {},
   "outputs": [],
   "source": [
    "import pandas as pd\n",
    "import numpy as np\n",
    "import random, datetime, time\n",
    "from typing import List, Tuple\n",
    "import matplotlib.pyplot as plt"
   ]
  },
  {
   "cell_type": "code",
   "execution_count": 2,
   "id": "4cd4ed1a-7e56-4a7d-81cb-6c177ea5a6cc",
   "metadata": {},
   "outputs": [],
   "source": [
    "data_path = 'data.xlsx'\n",
    "rates  = pd.read_excel(data_path, sheet_name='Rates')\n",
    "meters = pd.read_excel(data_path, sheet_name='Meter List')\n",
    "cons   = pd.read_excel(data_path, sheet_name='Forecasted Consumption')\n",
    "\n",
    "rates = rates.rename(columns={'Date': 'Date Rate'})\n",
    "cons = cons.rename(columns={'Date': 'Date Cons'})"
   ]
  },
  {
   "cell_type": "code",
   "execution_count": 3,
   "id": "1d9bec1d-476b-4751-92cd-8e4527b7906c",
   "metadata": {},
   "outputs": [],
   "source": [
    "# Missing values\n",
    "rates['Annual Quantity (Max)'] = rates['Annual Quantity (Max)'].fillna(np.inf)"
   ]
  },
  {
   "cell_type": "markdown",
   "id": "25736bfa-a86b-4bbf-a6f6-da55afc310d3",
   "metadata": {},
   "source": [
    "# [1] Transportation Distribution Charge"
   ]
  },
  {
   "cell_type": "code",
   "execution_count": 4,
   "id": "d18ed399-e7a9-469c-ae28-75b2828c070d",
   "metadata": {},
   "outputs": [],
   "source": [
    "# Join consumption and meters\n",
    "r1 = pd.merge(\n",
    "    right=cons,\n",
    "    left=meters,\n",
    "    how='right',\n",
    "    on='Meter ID'\n",
    ")"
   ]
  },
  {
   "cell_type": "code",
   "execution_count": 5,
   "id": "bb36f0d4-f6ef-4a25-bac7-23a53f01918a",
   "metadata": {},
   "outputs": [
    {
     "data": {
      "text/html": [
       "<div>\n",
       "<style scoped>\n",
       "    .dataframe tbody tr th:only-of-type {\n",
       "        vertical-align: middle;\n",
       "    }\n",
       "\n",
       "    .dataframe tbody tr th {\n",
       "        vertical-align: top;\n",
       "    }\n",
       "\n",
       "    .dataframe thead th {\n",
       "        text-align: right;\n",
       "    }\n",
       "</style>\n",
       "<table border=\"1\" class=\"dataframe\">\n",
       "  <thead>\n",
       "    <tr style=\"text-align: right;\">\n",
       "      <th></th>\n",
       "      <th>Meter ID</th>\n",
       "      <th>Exit Zone</th>\n",
       "      <th>Annual Quantity (kWh)</th>\n",
       "      <th>Date Cons</th>\n",
       "      <th>kWh</th>\n",
       "    </tr>\n",
       "  </thead>\n",
       "  <tbody>\n",
       "    <tr>\n",
       "      <th>0</th>\n",
       "      <td>1000000603</td>\n",
       "      <td>SC1</td>\n",
       "      <td>12337</td>\n",
       "      <td>2020-10-01</td>\n",
       "      <td>28.782474</td>\n",
       "    </tr>\n",
       "    <tr>\n",
       "      <th>1</th>\n",
       "      <td>10588707</td>\n",
       "      <td>EM2</td>\n",
       "      <td>75123</td>\n",
       "      <td>2020-10-01</td>\n",
       "      <td>126.367711</td>\n",
       "    </tr>\n",
       "    <tr>\n",
       "      <th>2</th>\n",
       "      <td>10626610</td>\n",
       "      <td>NW1</td>\n",
       "      <td>151779</td>\n",
       "      <td>2020-10-01</td>\n",
       "      <td>326.240595</td>\n",
       "    </tr>\n",
       "    <tr>\n",
       "      <th>3</th>\n",
       "      <td>1000000603</td>\n",
       "      <td>SC1</td>\n",
       "      <td>12337</td>\n",
       "      <td>2020-10-02</td>\n",
       "      <td>26.690797</td>\n",
       "    </tr>\n",
       "    <tr>\n",
       "      <th>4</th>\n",
       "      <td>10588707</td>\n",
       "      <td>EM2</td>\n",
       "      <td>75123</td>\n",
       "      <td>2020-10-02</td>\n",
       "      <td>118.322449</td>\n",
       "    </tr>\n",
       "    <tr>\n",
       "      <th>...</th>\n",
       "      <td>...</td>\n",
       "      <td>...</td>\n",
       "      <td>...</td>\n",
       "      <td>...</td>\n",
       "      <td>...</td>\n",
       "    </tr>\n",
       "    <tr>\n",
       "      <th>2185</th>\n",
       "      <td>10588707</td>\n",
       "      <td>EM2</td>\n",
       "      <td>75123</td>\n",
       "      <td>2022-09-29</td>\n",
       "      <td>77.744203</td>\n",
       "    </tr>\n",
       "    <tr>\n",
       "      <th>2186</th>\n",
       "      <td>10626610</td>\n",
       "      <td>NW1</td>\n",
       "      <td>151779</td>\n",
       "      <td>2022-09-29</td>\n",
       "      <td>270.357196</td>\n",
       "    </tr>\n",
       "    <tr>\n",
       "      <th>2187</th>\n",
       "      <td>1000000603</td>\n",
       "      <td>SC1</td>\n",
       "      <td>12337</td>\n",
       "      <td>2022-09-30</td>\n",
       "      <td>17.927143</td>\n",
       "    </tr>\n",
       "    <tr>\n",
       "      <th>2188</th>\n",
       "      <td>10588707</td>\n",
       "      <td>EM2</td>\n",
       "      <td>75123</td>\n",
       "      <td>2022-09-30</td>\n",
       "      <td>73.335098</td>\n",
       "    </tr>\n",
       "    <tr>\n",
       "      <th>2189</th>\n",
       "      <td>10626610</td>\n",
       "      <td>NW1</td>\n",
       "      <td>151779</td>\n",
       "      <td>2022-09-30</td>\n",
       "      <td>263.375674</td>\n",
       "    </tr>\n",
       "  </tbody>\n",
       "</table>\n",
       "<p>2190 rows × 5 columns</p>\n",
       "</div>"
      ],
      "text/plain": [
       "        Meter ID Exit Zone  Annual Quantity (kWh)  Date Cons         kWh\n",
       "0     1000000603       SC1                  12337 2020-10-01   28.782474\n",
       "1       10588707       EM2                  75123 2020-10-01  126.367711\n",
       "2       10626610       NW1                 151779 2020-10-01  326.240595\n",
       "3     1000000603       SC1                  12337 2020-10-02   26.690797\n",
       "4       10588707       EM2                  75123 2020-10-02  118.322449\n",
       "...          ...       ...                    ...        ...         ...\n",
       "2185    10588707       EM2                  75123 2022-09-29   77.744203\n",
       "2186    10626610       NW1                 151779 2022-09-29  270.357196\n",
       "2187  1000000603       SC1                  12337 2022-09-30   17.927143\n",
       "2188    10588707       EM2                  75123 2022-09-30   73.335098\n",
       "2189    10626610       NW1                 151779 2022-09-30  263.375674\n",
       "\n",
       "[2190 rows x 5 columns]"
      ]
     },
     "execution_count": 5,
     "metadata": {},
     "output_type": "execute_result"
    }
   ],
   "source": [
    "r1"
   ]
  },
  {
   "cell_type": "code",
   "execution_count": 6,
   "id": "049eaafd-00f5-4045-a073-502d340cc2fa",
   "metadata": {},
   "outputs": [],
   "source": [
    "# Join in the rates\n",
    "r2 = pd.merge(\n",
    "    right=r1,\n",
    "    left=rates,\n",
    "    on= ['Exit Zone'],\n",
    "    how='right'\n",
    ")\n",
    "\n",
    "# Drop the rates with non-matching AQ\n",
    "r3 = r2[ ( r2['Annual Quantity (kWh)'] >= r2['Annual Quantity (Min)']  ) & (r2['Annual Quantity (kWh)'] < r2['Annual Quantity (Max)']) ]\n",
    "#r3.reset_index(drop=True, inplace=True)"
   ]
  },
  {
   "cell_type": "code",
   "execution_count": 7,
   "id": "6d849d99-e241-4608-bc59-e19a2b1c3f69",
   "metadata": {
    "tags": []
   },
   "outputs": [
    {
     "name": "stderr",
     "output_type": "stream",
     "text": [
      "/opt/data/playground/projects/bvb-python-env/bvb-env/lib/python3.7/site-packages/ipykernel_launcher.py:2: SettingWithCopyWarning: \n",
      "A value is trying to be set on a copy of a slice from a DataFrame.\n",
      "Try using .loc[row_indexer,col_indexer] = value instead\n",
      "\n",
      "See the caveats in the documentation: https://pandas.pydata.org/pandas-docs/stable/user_guide/indexing.html#returning-a-view-versus-a-copy\n",
      "  \n"
     ]
    }
   ],
   "source": [
    "# Drop the rates with non-matching date\n",
    "r3['Delta Dates'] = (r3['Date Cons'] - r3['Date Rate']).dt.days\n",
    "\n",
    "#max_gap = 183 # an optimalisation (?)\n",
    "#r3 = r3[ (r3['Delta Dates'] >= 0) & (r3['Delta Dates'] < max_gap)  ]\n",
    "r3 = r3[ (r3['Delta Dates'] >= 0) ]"
   ]
  },
  {
   "cell_type": "code",
   "execution_count": 8,
   "id": "ba577b3c-44d6-4c64-8e34-41ceddab4953",
   "metadata": {},
   "outputs": [],
   "source": [
    "# Select the rate with smallest positive date delta\n",
    "\n",
    "# First option: use apply, don't use apply\n",
    "#r4_slow = r3.groupby(['Meter ID', 'Date Cons' ]).apply(lambda group: group[group['Delta Dates'] == group['Delta Dates'].min()])\n",
    "\n",
    "# Second option: use an aux vector to filter on\n",
    "min_dates = r3.groupby(['Meter ID', 'Date Cons' ])['Delta Dates'].transform(min)\n",
    "r4 = r3[r3['Delta Dates'] == min_dates]\n",
    "\n",
    "assert len(r4) == cons.shape[0]"
   ]
  },
  {
   "cell_type": "code",
   "execution_count": 28,
   "id": "c35b47e9-d5ba-46b1-a9c3-1eb7bdd2aeac",
   "metadata": {
    "tags": []
   },
   "outputs": [
    {
     "name": "stderr",
     "output_type": "stream",
     "text": [
      "/opt/data/playground/projects/bvb-python-env/bvb-env/lib/python3.7/site-packages/ipykernel_launcher.py:3: SettingWithCopyWarning: \n",
      "A value is trying to be set on a copy of a slice from a DataFrame.\n",
      "Try using .loc[row_indexer,col_indexer] = value instead\n",
      "\n",
      "See the caveats in the documentation: https://pandas.pydata.org/pandas-docs/stable/user_guide/indexing.html#returning-a-view-versus-a-copy\n",
      "  This is separate from the ipykernel package so we can avoid doing imports until\n"
     ]
    }
   ],
   "source": [
    "# Calculate the day cost\n",
    "r4['Day Cost (£)'] = r4['Rate (p/kWh)'] *  r4['kWh'] / 100"
   ]
  },
  {
   "cell_type": "code",
   "execution_count": 26,
   "id": "0dbecb44-9a2c-4407-9bc6-61dc2ccd046f",
   "metadata": {},
   "outputs": [],
   "source": [
    "result = r4.groupby('Meter ID').agg({'kWh': 'sum', 'Day Cost (£)': 'sum'}).rename(columns={'kWh': 'Total Estimated Consumption (kWh)',  'Day Cost (£)': 'Total Cost (£)'})\n",
    "result['Total Estimated Consumption (kWh)'] = round(result['Total Estimated Consumption (kWh)'], 2)\n",
    "result['Total Cost (£)'] = round(result['Total Cost (£)'], 2)"
   ]
  },
  {
   "cell_type": "code",
   "execution_count": 11,
   "id": "ef65bbb4-1140-47e0-885a-b4394075c1c0",
   "metadata": {},
   "outputs": [
    {
     "data": {
      "text/html": [
       "<div>\n",
       "<style scoped>\n",
       "    .dataframe tbody tr th:only-of-type {\n",
       "        vertical-align: middle;\n",
       "    }\n",
       "\n",
       "    .dataframe tbody tr th {\n",
       "        vertical-align: top;\n",
       "    }\n",
       "\n",
       "    .dataframe thead th {\n",
       "        text-align: right;\n",
       "    }\n",
       "</style>\n",
       "<table border=\"1\" class=\"dataframe\">\n",
       "  <thead>\n",
       "    <tr style=\"text-align: right;\">\n",
       "      <th></th>\n",
       "      <th>Total Estimated Consumption (kWh)</th>\n",
       "      <th>Total Cost (£)</th>\n",
       "    </tr>\n",
       "    <tr>\n",
       "      <th>Meter ID</th>\n",
       "      <th></th>\n",
       "      <th></th>\n",
       "    </tr>\n",
       "  </thead>\n",
       "  <tbody>\n",
       "    <tr>\n",
       "      <th>10588707</th>\n",
       "      <td>122450.0</td>\n",
       "      <td>28.50</td>\n",
       "    </tr>\n",
       "    <tr>\n",
       "      <th>10626610</th>\n",
       "      <td>303558.0</td>\n",
       "      <td>88.24</td>\n",
       "    </tr>\n",
       "    <tr>\n",
       "      <th>1000000603</th>\n",
       "      <td>24674.0</td>\n",
       "      <td>8.27</td>\n",
       "    </tr>\n",
       "  </tbody>\n",
       "</table>\n",
       "</div>"
      ],
      "text/plain": [
       "            Total Estimated Consumption (kWh)  Total Cost (£)\n",
       "Meter ID                                                     \n",
       "10588707                             122450.0           28.50\n",
       "10626610                             303558.0           88.24\n",
       "1000000603                            24674.0            8.27"
      ]
     },
     "execution_count": 11,
     "metadata": {},
     "output_type": "execute_result"
    }
   ],
   "source": [
    "result"
   ]
  },
  {
   "cell_type": "markdown",
   "id": "230aed7a-2aff-46af-b857-0dc5cee38afb",
   "metadata": {},
   "source": [
    "# [2] List of random meters"
   ]
  },
  {
   "cell_type": "code",
   "execution_count": 12,
   "id": "026aeb2b-b5ac-4de8-9534-cbb8a12bbaca",
   "metadata": {
    "collapsed": true,
    "jupyter": {
     "outputs_hidden": true,
     "source_hidden": true
    },
    "tags": []
   },
   "outputs": [
    {
     "data": {
      "text/plain": [
       "array(['EA1', 'EA2', 'EA3', 'EA4', 'EM1', 'EM2', 'EM3', 'EM4', 'LC', 'LO',\n",
       "       'LS', 'LT', 'LW', 'NE1', 'NE2', 'NE3', 'NO1', 'NO2', 'NT1', 'NT2',\n",
       "       'NT3', 'NW1', 'NW2', 'SC1', 'SC2', 'SC4', 'SE1', 'SE2', 'SO1',\n",
       "       'SO2', 'SW1', 'SW2', 'SW3', 'WA1', 'WA2', 'WM1', 'WM2', 'WM3'],\n",
       "      dtype=object)"
      ]
     },
     "execution_count": 12,
     "metadata": {},
     "output_type": "execute_result"
    }
   ],
   "source": [
    "rates['Exit Zone'].unique()"
   ]
  },
  {
   "cell_type": "code",
   "execution_count": 13,
   "id": "6b32ab79-759b-47e7-aaa9-7fbb845e7c68",
   "metadata": {},
   "outputs": [],
   "source": [
    "zones = ['EA1', 'EA2', 'EA3', 'EA4', 'EM1', 'EM2', 'EM3', 'EM4', 'LC', 'LO',\n",
    "       'LS', 'LT', 'LW', 'NE1', 'NE2', 'NE3', 'NO1', 'NO2', 'NT1', 'NT2',\n",
    "       'NT3', 'NW1', 'NW2', 'SC1', 'SC2', 'SC4', 'SE1', 'SE2', 'SO1',\n",
    "       'SO2', 'SW1', 'SW2', 'SW3', 'WA1', 'WA2', 'WM1', 'WM2', 'WM3']\n",
    "\n",
    "def random_meters(n:int, zones:List[str], min_aq=10000, max_ax=732001) -> List[Tuple[int, str, int]]:\n",
    "    return [(i, random.sample(zones, 1)[0], random.randint(min_aq,max_ax) ) for i in range(n)]"
   ]
  },
  {
   "cell_type": "code",
   "execution_count": 14,
   "id": "a84b1b8a-ba49-4138-a813-696e4b330475",
   "metadata": {},
   "outputs": [
    {
     "data": {
      "text/plain": [
       "[(0, 'NO1', 309938), (1, 'SW2', 327748)]"
      ]
     },
     "execution_count": 14,
     "metadata": {},
     "output_type": "execute_result"
    }
   ],
   "source": [
    "random_meters(n=2, zones=zones)"
   ]
  },
  {
   "cell_type": "markdown",
   "id": "b3ab9e81-9b20-4f37-9460-e10ecec243df",
   "metadata": {},
   "source": [
    "# [3] Mock consumption data"
   ]
  },
  {
   "cell_type": "code",
   "execution_count": 15,
   "id": "aba18f3d-86ce-46e8-9b04-c7b247f8c491",
   "metadata": {},
   "outputs": [],
   "source": [
    "def flatten(l):\n",
    "    return [item for subl in l for item in subl]"
   ]
  },
  {
   "cell_type": "code",
   "execution_count": 16,
   "id": "599632b5-adc5-445d-9622-b14ab6339412",
   "metadata": {},
   "outputs": [],
   "source": [
    "def mock_consumption_data(\n",
    "    meters:List[Tuple[int, str, int]], start_date:datetime.date, end_date:datetime.date, \n",
    "    min_consumption=25.0, max_consumpation=500.0) -> pd.DataFrame:\n",
    "    date_range = pd.date_range(start=start_date, end=end_date)\n",
    "    df = pd.DataFrame({\n",
    "        #'Meter ID': sum([ [i] * len(date_range) for (i,_,_) in meters ], []),  # don't use this cute monoid in production :p \n",
    "        'Meter ID': flatten([ [i] * len(date_range) for (i,_,_) in meters ]),\n",
    "        'Date Cons': list(date_range) * len(meters),\n",
    "        'kWh': np.random.uniform(min_consumption, max_consumpation, size=len(date_range)*len(meters))\n",
    "    })\n",
    "    return df"
   ]
  },
  {
   "cell_type": "code",
   "execution_count": 17,
   "id": "7a6b8788-7420-4ff7-9648-acbbd4d92d71",
   "metadata": {},
   "outputs": [
    {
     "data": {
      "text/html": [
       "<div>\n",
       "<style scoped>\n",
       "    .dataframe tbody tr th:only-of-type {\n",
       "        vertical-align: middle;\n",
       "    }\n",
       "\n",
       "    .dataframe tbody tr th {\n",
       "        vertical-align: top;\n",
       "    }\n",
       "\n",
       "    .dataframe thead th {\n",
       "        text-align: right;\n",
       "    }\n",
       "</style>\n",
       "<table border=\"1\" class=\"dataframe\">\n",
       "  <thead>\n",
       "    <tr style=\"text-align: right;\">\n",
       "      <th></th>\n",
       "      <th>Meter ID</th>\n",
       "      <th>Date Cons</th>\n",
       "      <th>kWh</th>\n",
       "    </tr>\n",
       "  </thead>\n",
       "  <tbody>\n",
       "    <tr>\n",
       "      <th>0</th>\n",
       "      <td>0</td>\n",
       "      <td>2020-10-01</td>\n",
       "      <td>125.336005</td>\n",
       "    </tr>\n",
       "    <tr>\n",
       "      <th>1</th>\n",
       "      <td>0</td>\n",
       "      <td>2020-10-02</td>\n",
       "      <td>322.624791</td>\n",
       "    </tr>\n",
       "    <tr>\n",
       "      <th>2</th>\n",
       "      <td>0</td>\n",
       "      <td>2020-10-03</td>\n",
       "      <td>61.538133</td>\n",
       "    </tr>\n",
       "    <tr>\n",
       "      <th>3</th>\n",
       "      <td>0</td>\n",
       "      <td>2020-10-04</td>\n",
       "      <td>91.885958</td>\n",
       "    </tr>\n",
       "    <tr>\n",
       "      <th>4</th>\n",
       "      <td>0</td>\n",
       "      <td>2020-10-05</td>\n",
       "      <td>107.569015</td>\n",
       "    </tr>\n",
       "    <tr>\n",
       "      <th>...</th>\n",
       "      <td>...</td>\n",
       "      <td>...</td>\n",
       "      <td>...</td>\n",
       "    </tr>\n",
       "    <tr>\n",
       "      <th>291995</th>\n",
       "      <td>399</td>\n",
       "      <td>2022-09-26</td>\n",
       "      <td>256.759473</td>\n",
       "    </tr>\n",
       "    <tr>\n",
       "      <th>291996</th>\n",
       "      <td>399</td>\n",
       "      <td>2022-09-27</td>\n",
       "      <td>187.227496</td>\n",
       "    </tr>\n",
       "    <tr>\n",
       "      <th>291997</th>\n",
       "      <td>399</td>\n",
       "      <td>2022-09-28</td>\n",
       "      <td>334.692547</td>\n",
       "    </tr>\n",
       "    <tr>\n",
       "      <th>291998</th>\n",
       "      <td>399</td>\n",
       "      <td>2022-09-29</td>\n",
       "      <td>323.052523</td>\n",
       "    </tr>\n",
       "    <tr>\n",
       "      <th>291999</th>\n",
       "      <td>399</td>\n",
       "      <td>2022-09-30</td>\n",
       "      <td>249.130936</td>\n",
       "    </tr>\n",
       "  </tbody>\n",
       "</table>\n",
       "<p>292000 rows × 3 columns</p>\n",
       "</div>"
      ],
      "text/plain": [
       "        Meter ID  Date Cons         kWh\n",
       "0              0 2020-10-01  125.336005\n",
       "1              0 2020-10-02  322.624791\n",
       "2              0 2020-10-03   61.538133\n",
       "3              0 2020-10-04   91.885958\n",
       "4              0 2020-10-05  107.569015\n",
       "...          ...        ...         ...\n",
       "291995       399 2022-09-26  256.759473\n",
       "291996       399 2022-09-27  187.227496\n",
       "291997       399 2022-09-28  334.692547\n",
       "291998       399 2022-09-29  323.052523\n",
       "291999       399 2022-09-30  249.130936\n",
       "\n",
       "[292000 rows x 3 columns]"
      ]
     },
     "execution_count": 17,
     "metadata": {},
     "output_type": "execute_result"
    }
   ],
   "source": [
    "mock_consumption_data(meters=random_meters(n=400, zones=zones), start_date=datetime.date(year=2020, month=10, day=1), end_date=datetime.date(2022, month=9, day=30))"
   ]
  },
  {
   "cell_type": "markdown",
   "id": "80622e58-be45-49c7-ac02-0b79a88b4242",
   "metadata": {},
   "source": [
    "# [4] Benchmark of cost function"
   ]
  },
  {
   "cell_type": "code",
   "execution_count": 18,
   "id": "910a5cf6-68e6-42be-9fd9-21a42806cac0",
   "metadata": {},
   "outputs": [],
   "source": [
    "def transportation_cost_table(meters:pd.DataFrame, rates:pd.DataFrame, cons:pd.DataFrame) -> pd.DataFrame:\n",
    "    \n",
    "    # Join consumption and meters\n",
    "    r1 = pd.merge(\n",
    "        right=cons,\n",
    "        left=meters,\n",
    "        how='right',\n",
    "        on='Meter ID'\n",
    "    )\n",
    "    \n",
    "    # Join in the rates\n",
    "    r1 = pd.merge(\n",
    "        right=r1,\n",
    "        left=rates,\n",
    "        on= ['Exit Zone'],\n",
    "        how='right'\n",
    "    )\n",
    "\n",
    "    # Drop the rates with non-matching AQ\n",
    "    r1 = r1[ ( r1['Annual Quantity (kWh)'] >= r1['Annual Quantity (Min)']  ) & (r1['Annual Quantity (kWh)'] < r1['Annual Quantity (Max)']) ]\n",
    "\n",
    "    # Drop the rates with non-matching date\n",
    "    r1['Delta Dates'] = (r1['Date Cons'] - r1['Date Rate']).dt.days\n",
    "    max_gap = 183 # assumes that the dates of the rates follow a fixed pattern: 1/04 and 1/10 of each year\n",
    "    r1 = r1[ (r1['Delta Dates'] >= 0) & (r1['Delta Dates'] < max_gap)  ]\n",
    "    \n",
    "    # Select the rate with smallest positive date delta\n",
    "    # First option: use apply, don't use apply:\n",
    "    #r4_slow = r3.groupby(['Meter ID', 'Date Cons' ]).apply(lambda group: group[group['Delta Dates'] == group['Delta Dates'].min()])\n",
    "    # Second option: use aux vector to filter on:\n",
    "    min_dates = r1.groupby(['Meter ID', 'Date Cons' ])['Delta Dates'].transform(min)\n",
    "    r1 = r1[r1['Delta Dates'] == min_dates]\n",
    "\n",
    "    assert len(r1) == cons.shape[0]\n",
    "\n",
    "    # Calculate the day cost\n",
    "    r1.loc[:, 'Day Cost (£)'] = r1['Rate (p/kWh)'] *  r1['kWh'] / 100\n",
    "    \n",
    "    result = r1.groupby('Meter ID').agg({'kWh': 'sum', 'Day Cost (£)': 'sum'}).rename(columns={'kWh': 'Total Estimated Consumption (kWh)',  'Day Cost (£)': 'Total Cost (£)'})\n",
    "    \n",
    "    return result"
   ]
  },
  {
   "cell_type": "code",
   "execution_count": 19,
   "id": "8a857716-dc31-40f2-aa0d-ad62465fa7fc",
   "metadata": {},
   "outputs": [],
   "source": [
    "def benchmark(meter_sizes:List[int], end_date=datetime.date(2021, month=9, day=30), years=1):\n",
    "    elapsed = []\n",
    "\n",
    "    for size in meter_sizes:\n",
    "        meters2 = random_meters(n=size, zones=zones)\n",
    "        cons2 = mock_consumption_data(meters=meters2, start_date=datetime.date(year=2020, month=10, day=1), end_date=end_date)\n",
    "\n",
    "        start = time.time()\n",
    "        result = transportation_cost_table(\n",
    "            meters=pd.DataFrame(meters2, columns=['Meter ID', 'Exit Zone', 'Annual Quantity (kWh)']),\n",
    "            rates=rates,\n",
    "            cons=cons2\n",
    "        )\n",
    "        end = time.time() - start\n",
    "        elapsed.append(round(end,2))\n",
    "        #print(\"elapsed {:.2f}\".format(end))\n",
    "        print(elapsed)\n",
    "    \n",
    "    plt.figure()\n",
    "    plt.plot(meter_sizes, elapsed)\n",
    "    plt.title(f'Benmark test with {years} year period'); plt.ylabel('Time (s)'); plt.xlabel('Meter size')"
   ]
  },
  {
   "cell_type": "markdown",
   "id": "7c5ec72e-fa5e-49d7-ae5f-134e534ae874",
   "metadata": {},
   "source": [
    "## [4.1] 1 year period"
   ]
  },
  {
   "cell_type": "code",
   "execution_count": 20,
   "id": "20dbdbe7-5233-422c-bdc1-77d61ba4735a",
   "metadata": {},
   "outputs": [
    {
     "name": "stdout",
     "output_type": "stream",
     "text": [
      "[0.33]\n",
      "[0.33, 0.58]\n",
      "[0.33, 0.58, 0.8]\n",
      "[0.33, 0.58, 0.8, 1.18]\n",
      "[0.33, 0.58, 0.8, 1.18, 1.53]\n",
      "[0.33, 0.58, 0.8, 1.18, 1.53, 2.28]\n",
      "[0.33, 0.58, 0.8, 1.18, 1.53, 2.28, 3.05]\n",
      "[0.33, 0.58, 0.8, 1.18, 1.53, 2.28, 3.05, 4.53]\n",
      "[0.33, 0.58, 0.8, 1.18, 1.53, 2.28, 3.05, 4.53, 5.32]\n",
      "[0.33, 0.58, 0.8, 1.18, 1.53, 2.28, 3.05, 4.53, 5.32, 6.15]\n",
      "[0.33, 0.58, 0.8, 1.18, 1.53, 2.28, 3.05, 4.53, 5.32, 6.15, 7.17]\n",
      "[0.33, 0.58, 0.8, 1.18, 1.53, 2.28, 3.05, 4.53, 5.32, 6.15, 7.17, 7.64]\n",
      "[0.33, 0.58, 0.8, 1.18, 1.53, 2.28, 3.05, 4.53, 5.32, 6.15, 7.17, 7.64, 9.13]\n",
      "[0.33, 0.58, 0.8, 1.18, 1.53, 2.28, 3.05, 4.53, 5.32, 6.15, 7.17, 7.64, 9.13, 9.86]\n",
      "[0.33, 0.58, 0.8, 1.18, 1.53, 2.28, 3.05, 4.53, 5.32, 6.15, 7.17, 7.64, 9.13, 9.86, 12.25]\n"
     ]
    },
    {
     "data": {
      "image/png": "[encoded data removed]",
      "text/plain": [
       "<Figure size 432x288 with 1 Axes>"
      ]
     },
     "metadata": {
      "needs_background": "light"
     },
     "output_type": "display_data"
    }
   ],
   "source": [
    "meter_sizes = [200, 400, 500, 750, 1000, 1500, 2000, 3000, 3500, 4000, 4500, 5000, 6000, 6500, 7500]\n",
    "benchmark(meter_sizes, datetime.date(2021, month=9, day=30), years=1)"
   ]
  },
  {
   "cell_type": "markdown",
   "id": "56e044d6-886e-4e91-b481-d8aee502858c",
   "metadata": {},
   "source": [
    "## [4.2] 2 year period"
   ]
  },
  {
   "cell_type": "code",
   "execution_count": 21,
   "id": "fcf1474c-5071-48b7-89ae-05217110fad3",
   "metadata": {},
   "outputs": [
    {
     "name": "stdout",
     "output_type": "stream",
     "text": [
      "[0.21]\n",
      "[0.21, 0.31]\n",
      "[0.21, 0.31, 0.58]\n",
      "[0.21, 0.31, 0.58, 1.25]\n",
      "[0.21, 0.31, 0.58, 1.25, 1.57]\n",
      "[0.21, 0.31, 0.58, 1.25, 1.57, 2.33]\n",
      "[0.21, 0.31, 0.58, 1.25, 1.57, 2.33, 3.05]\n",
      "[0.21, 0.31, 0.58, 1.25, 1.57, 2.33, 3.05, 4.62]\n",
      "[0.21, 0.31, 0.58, 1.25, 1.57, 2.33, 3.05, 4.62, 6.15]\n",
      "[0.21, 0.31, 0.58, 1.25, 1.57, 2.33, 3.05, 4.62, 6.15, 9.29]\n"
     ]
    },
    {
     "data": {
      "image/png": "[encoded data removed]",
      "text/plain": [
       "<Figure size 432x288 with 1 Axes>"
      ]
     },
     "metadata": {
      "needs_background": "light"
     },
     "output_type": "display_data"
    }
   ],
   "source": [
    "meter_sizes = [50, 100, 200, 400, 500, 750, 1000, 1500, 2000, 3000]\n",
    "benchmark(meter_sizes, datetime.date(2022, month=9, day=30), years=2)"
   ]
  },
  {
   "cell_type": "markdown",
   "id": "8bb44357-7892-4600-9523-d1d547e01452",
   "metadata": {},
   "source": [
    "## [4.3] 3 year period"
   ]
  },
  {
   "cell_type": "code",
   "execution_count": 22,
   "id": "cabcc21e-5b4f-4f26-a595-2ecee7792e1b",
   "metadata": {},
   "outputs": [
    {
     "name": "stdout",
     "output_type": "stream",
     "text": [
      "[0.08]\n",
      "[0.08, 0.25]\n",
      "[0.08, 0.25, 0.45]\n",
      "[0.08, 0.25, 0.45, 1.02]\n",
      "[0.08, 0.25, 0.45, 1.02, 1.88]\n",
      "[0.08, 0.25, 0.45, 1.02, 1.88, 2.38]\n",
      "[0.08, 0.25, 0.45, 1.02, 1.88, 2.38, 3.63]\n",
      "[0.08, 0.25, 0.45, 1.02, 1.88, 2.38, 3.63, 4.55]\n",
      "[0.08, 0.25, 0.45, 1.02, 1.88, 2.38, 3.63, 4.55, 6.85]\n",
      "[0.08, 0.25, 0.45, 1.02, 1.88, 2.38, 3.63, 4.55, 6.85, 12.15]\n"
     ]
    },
    {
     "data": {
      "image/png": "[encoded data removed]",
      "text/plain": [
       "<Figure size 432x288 with 1 Axes>"
      ]
     },
     "metadata": {
      "needs_background": "light"
     },
     "output_type": "display_data"
    }
   ],
   "source": [
    "meter_sizes = [10, 50, 100, 200, 400, 500, 750, 1000, 1500, 2500]\n",
    "benchmark(meter_sizes, datetime.date(2023, month=9, day=30), years=3)"
   ]
  },
  {
   "cell_type": "markdown",
   "id": "a73a03a8-72d5-4369-8b18-bd6fa51373d1",
   "metadata": {},
   "source": [
    "## [4.4] Discussion\n",
    "\n",
    "Looking at the benchmark plots, I would say that the cost function scales linearly with increasing meter size. We see the same behaviour for increase time periods, \n",
    "but the computation time doubles when going from one year to two years: \n",
    "- calculating cost for 3000 meters over 1 year takes 4.53 sec\n",
    "- calculating cost for 3000 meters over 2 year takes 9.29 sec\n",
    "\n",
    "Of course, honesty compels me to say that the used ranges for the meter sizes are at the limit of what my machine is able to handle. In case of larger sizes, the kernel of my notebook dies due to an OOM error propably. "
   ]
  },
  {
   "cell_type": "markdown",
   "id": "ac67150f-c96b-4ba9-b0fb-eb975722dd3d",
   "metadata": {},
   "source": [
    "# [5] Improvements\n",
    "\n",
    "One possible improvement would be to parallelize the workload and divide it under clusters in a distributed environment (e.g. Dask or Spark).\n",
    "\n",
    "Parallelization would be possible in at least two dimensions: both at the client level and time domain."
   ]
  }
 ],
 "metadata": {
  "kernelspec": {
   "display_name": "Python 3",
   "language": "python",
   "name": "python3"
  },
  "language_info": {
   "codemirror_mode": {
    "name": "ipython",
    "version": 3
   },
   "file_extension": ".py",
   "mimetype": "text/x-python",
   "name": "python",
   "nbconvert_exporter": "python",
   "pygments_lexer": "ipython3",
   "version": "3.7.5"
  }
 },
 "nbformat": 4,
 "nbformat_minor": 5
}
